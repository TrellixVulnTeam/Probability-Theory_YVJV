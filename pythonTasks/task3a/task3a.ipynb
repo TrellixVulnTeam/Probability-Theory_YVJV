{
 "cells": [
  {
   "cell_type": "markdown",
   "source": [
    "\"plot.bar(steps, distribution_fun / numOfPoints, width=h, color=(0.2, 0.6, 0.3, 0.4))\n",
    "\n",
    "plot.plot(data, stats.cauchy.cdf(np.array(data), loc=20.983422419520274, scale=1), 'r')\n",
    "plot.plot(data, stats.laplace.cdf(np.array(data), loc=1, scale=1), 'g')"
   ],
   "metadata": {
    "collapsed": false,
    "pycharm": {
     "name": "#%% md\n"
    }
   }
  },
  {
   "cell_type": "code",
   "execution_count": 4,
   "metadata": {
    "collapsed": true
   },
   "outputs": [
    {
     "name": "stdout",
     "output_type": "stream",
     "text": [
      "Min - 10.000000\n",
      "Max - 20.000000\n"
     ]
    },
    {
     "data": {
      "text/plain": "<Figure size 432x288 with 1 Axes>",
      "image/png": "[encoded data removed]"
     },
     "metadata": {
      "needs_background": "light"
     },
     "output_type": "display_data"
    },
    {
     "data": {
      "text/plain": "<Figure size 432x288 with 1 Axes>",
      "image/png": "[encoded data removed]"
     },
     "metadata": {
      "needs_background": "light"
     },
     "output_type": "display_data"
    }
   ],
   "source": [
    "import math\n",
    "import matplotlib.pyplot as plot\n",
    "import statistics as stat\n",
    "import scipy.stats as stats\n",
    "import numpy as np\n",
    "import random\n",
    "import help\n",
    "%matplotlib inline\n",
    "\n",
    "# https://matplotlib.org/api/_as_gen/matplotlib.pyplot.plot.html\n",
    "\n",
    "relay_SDVIG = 0\n",
    "\n",
    "f = open(\"Task_3a.txt\", 'r')\n",
    "line = f.readline().split(\" \")\n",
    "data = []\n",
    "data2 = [[], [], [], [], [], [], [], [], [], []]\n",
    "numOfPoints = int(line[2])\n",
    "numOfPointsInOneUnderArray = numOfPoints / 10\n",
    "\n",
    "for t in f.readline().split(\" \"):\n",
    "    if t != '':\n",
    "        data.append(float(t))\n",
    "\n",
    "# создание 10 подвыборок\n",
    "res = 0\n",
    "random.shuffle(data)\n",
    "for i in range(numOfPoints):\n",
    "    j = int(i // numOfPointsInOneUnderArray)\n",
    "    res += data[i]\n",
    "    data2[j].append(data[i])\n",
    "\n",
    "# сортировка значений\n",
    "list.sort(data)\n",
    "for l in data2:\n",
    "    list.sort(l)\n",
    "# ===========================  функция распределения и гистограммы =====================\n",
    "m = 100  # кол-во интервалов\n",
    "numbers = []\n",
    "for number in data:\n",
    "    if number < 50000:\n",
    "        if number > -500000:\n",
    "            numbers.append(number)\n",
    "#\n",
    "min_value = min(numbers)  # минимальное значение в выборке\n",
    "max_value = max(numbers)  # максимальное значение в выборке\n",
    "print(\"Min - %f\" % min_value)\n",
    "print(\"Max - %f\" % max_value)\n",
    "distribution_fun = np.zeros(m)\n",
    "h = (max_value - min_value) / m  # шаг, с которым идут интервалы\n",
    "steps = []  # массив точек с шагом h\n",
    "for t in range(1, m + 1):\n",
    "    steps.append(t * h + min_value)\n",
    "\n",
    "index = 0\n",
    "for value in numbers:\n",
    "    if value > steps[index]:\n",
    "        p = int(abs(steps[index] - value) / h) + 1\n",
    "        for i in range(1, p):\n",
    "            distribution_fun[index + i] = distribution_fun[index]\n",
    "        distribution_fun[index] = distribution_fun[index - 1]\n",
    "        index += p\n",
    "    distribution_fun[index - 1] += 1\n",
    "\n",
    "plot.title(\"Cumulative distribution function\")\n",
    "plot.xlim([min_value, max_value])  # CHANGE\n",
    "plot.bar(steps, distribution_fun / len(numbers), h)\n",
    "plot.show()\n",
    "plot.title(\"Histogram\")\n",
    "plot.xlim([min_value, max_value])  # CHANGE\n",
    "plot.hist(numbers, steps, color=(0.2, 0.6, 0.3, 1.0))\n",
    "plot.show()"
   ]
  },
  {
   "cell_type": "code",
   "execution_count": 5,
   "outputs": [
    {
     "name": "stdout",
     "output_type": "stream",
     "text": [
      "Histogram area:  1.0000000000000002\n"
     ]
    },
    {
     "data": {
      "text/plain": "<Figure size 432x288 with 1 Axes>",
      "image/png": "[encoded data removed]"
     },
     "metadata": {
      "needs_background": "light"
     },
     "output_type": "display_data"
    }
   ],
   "source": [
    "index = 0\n",
    "for_relative = np.zeros(m)\n",
    "steps = []  # массив точек с шагом h\n",
    "for t in range(1, m + 1):\n",
    "    steps.append(min_value + t * h)\n",
    "for value in numbers:\n",
    "    if value > steps[index]:\n",
    "        p = int(abs(steps[index] - value) // h) + 1\n",
    "        for_relative[index] = for_relative[index] / (h * len(numbers))\n",
    "        index += p\n",
    "    for_relative[index] += 1\n",
    "for_relative[m - 1] = for_relative[m - 1] / (h * len(numbers))\n",
    "\n",
    "# Проверка площади под гистограммой\n",
    "ssss_____ = 0\n",
    "for v in for_relative:\n",
    "    ssss_____ += v * h\n",
    "print('Histogram area: ', str(ssss_____))\n",
    "# Конец проверки площади\n",
    "\n",
    "\n",
    "plot.bar(steps, for_relative, width=h, color=(0.2, 0.6, 0.3, 1.0))\n",
    "plot.title(\"Relative Histogram\")\n",
    "plot.xlim([min(numbers), max(numbers)])  # CHANGE\n",
    "plot.show()"
   ],
   "metadata": {
    "collapsed": false,
    "pycharm": {
     "name": "#%%\n"
    }
   }
  },
  {
   "cell_type": "code",
   "execution_count": 6,
   "outputs": [
    {
     "name": "stdout",
     "output_type": "stream",
     "text": [
      "================== ТОЧЕЧНЫЕ ОЦЕНКИ =========================\n",
      "Выборка\t!x\tx_med\tx_ср\ts\ts^2\t∘µ_3\t∘µ_4\tAs\tEx\n",
      "Full\t15.056300\t15.025796\t15.000000\t12.496052\t3.534976\t-0.545811\t234.854064\t-0.082123\t1.504016\n",
      "1\t14.935050\t15.053468\t15.000000\t12.721462\t3.566716\t-1.368812\t241.328297\t-0.030167\t1.491194\n",
      "2\t15.017700\t15.024617\t15.000050\t12.368192\t3.516844\t0.024224\t229.169473\t0.000557\t1.498112\n",
      "3\t15.395900\t15.190371\t15.000000\t12.168966\t3.488404\t-3.855923\t228.968816\t-0.090834\t1.546212\n",
      "4\t15.075800\t15.025288\t15.000050\t12.839327\t3.583201\t-0.765246\t243.812085\t-0.016634\t1.479009\n",
      "5\t15.076900\t15.044836\t15.000000\t12.607443\t3.550696\t-0.982257\t237.698617\t-0.021942\t1.495452\n",
      "6\t15.053150\t14.956213\t15.000000\t12.174776\t3.489237\t-0.223786\t224.736214\t-0.005268\t1.516181\n",
      "7\t14.951650\t14.992286\t14.999950\t12.587898\t3.547943\t0.768113\t239.262027\t0.017199\t1.509967\n",
      "8\t15.144500\t15.036290\t15.000000\t12.410894\t3.522910\t-0.380138\t229.923587\t-0.008694\t1.492717\n",
      "9\t14.737300\t14.927960\t15.000050\t12.480928\t3.532836\t1.494343\t236.291110\t0.033891\t1.516888\n",
      "10\t15.034750\t15.006635\t15.000000\t12.621054\t3.552612\t-0.087769\t237.494503\t-0.001957\t1.490947\n",
      "Границы интерквантильного промежутка для P = 0.95:\n",
      "J = (4350, 13050) :\n",
      "По номерам точек:\n",
      "J = (11.483800, 18.557300) \n"
     ]
    }
   ],
   "source": [
    "max_value = max(data)\n",
    "print(\"================== ТОЧЕЧНЫЕ ОЦЕНКИ =========================\")\n",
    "empty = np.zeros(11)\n",
    "median = [stat.median(data)]  # медианы\n",
    "mean = [stat.mean(data)]  # среднее арифметическое (мат. ожидание)\n",
    "mid_range = [(min_value + max_value) / 2]  # средина размаха\n",
    "dispersion = [help.dispersion(data, mean[0])]  # дисперсия s^2\n",
    "root_of_dispersion = [math.sqrt(dispersion[0])]  # корень из дисперсии s\n",
    "third_central_moment = [help.central_moment(data, 3, mean[0])]  # 3-ий центральный момент\n",
    "fourth_central_moment = [help.central_moment(data, 4, mean[0])]  # 4-ый центральный момент\n",
    "asymmetry = [help.asymmetry(third_central_moment[0], root_of_dispersion[0])]  # асимметрия\n",
    "kurtosis = [help.kurtosis(fourth_central_moment[0], dispersion[0])]  # эксцесс\n",
    "\n",
    "interquantile_interval = help.interquantile_interval(numOfPoints, 0.5)  # интерквантильный интервал\n",
    "\n",
    "index = 1\n",
    "for n in data2:\n",
    "    median.append(stat.median(n))\n",
    "    mean.append(stat.mean(n))\n",
    "    mid_range.append((min(n) + max(n)) / 2)\n",
    "    dispersion.append(help.dispersion(n, mean[index]))\n",
    "    root_of_dispersion.append((math.sqrt(dispersion[index])))\n",
    "    third_central_moment.append(help.central_moment(n, 3, mean[index]))\n",
    "    fourth_central_moment.append(help.central_moment(n, 4, mean[index]))\n",
    "    asymmetry.append(third_central_moment[index] / pow(root_of_dispersion[index], 3))\n",
    "    kurtosis.append(help.kurtosis(fourth_central_moment[index], dispersion[index]))\n",
    "    index += 1\n",
    "\n",
    "print(\"Выборка\\t!x\\tx_med\\tx_ср\\ts\\ts^2\\t∘µ_3\\t∘µ_4\\tAs\\tEx\")\n",
    "for i in range(len(median)):\n",
    "    if i == 0:\n",
    "        data_name = \"Full\"\n",
    "    else:\n",
    "        data_name = str(i)\n",
    "    print(\"%s\\t%f\\t%f\\t%f\\t%f\\t%f\\t%f\\t%f\\t%f\\t%f\" % (data_name, median[i], mean[i], mid_range[i], dispersion[i],\n",
    "                                                      root_of_dispersion[i], third_central_moment[i],\n",
    "                                                      fourth_central_moment[i], asymmetry[i], kurtosis[i]))\n",
    "print(\"Границы интерквантильного промежутка для P = 0.95:\")\n",
    "print(\"J = (%d, %d) :\" % interquantile_interval)\n",
    "print(\"По номерам точек:\")\n",
    "print(\"J = (%f, %f) \" % (data[interquantile_interval[0]], data[interquantile_interval[1] - 1]))"
   ],
   "metadata": {
    "collapsed": false,
    "pycharm": {
     "name": "#%%\n"
    }
   }
  },
  {
   "cell_type": "markdown",
   "source": [
    "Графики точечных показателей"
   ],
   "metadata": {
    "collapsed": false,
    "pycharm": {
     "name": "#%% md\n"
    }
   }
  },
  {
   "cell_type": "code",
   "execution_count": 7,
   "outputs": [
    {
     "data": {
      "text/plain": "<Figure size 432x288 with 5 Axes>",
      "image/png": "[encoded data removed]"
     },
     "metadata": {
      "needs_background": "light"
     },
     "output_type": "display_data"
    },
    {
     "data": {
      "text/plain": "<Figure size 432x288 with 4 Axes>",
      "image/png": "[encoded data removed]"
     },
     "metadata": {
      "needs_background": "light"
     },
     "output_type": "display_data"
    }
   ],
   "source": [
    "plot.figure()\n",
    "\n",
    "ax1 = plot.subplot(9, 1, 1)\n",
    "ax1.set_ylim(-0.1, 0.1)\n",
    "ax1.set_yticks([])\n",
    "ax1.set_yticklabels([])\n",
    "plot.title('Медианы')\n",
    "plot.plot(median, empty, 'r+')\n",
    "plot.plot(median[0], 0, 'rp')\n",
    "\n",
    "ax2 = plot.subplot(9, 1, 3)\n",
    "ax2.set_yticklabels([])\n",
    "ax2.set_yticks([])\n",
    "plot.title('Среднее арифметическое (мат ожидание)')\n",
    "plot.plot(mean, empty, 'b+')\n",
    "plot.plot(mean[0], 0, 'bp')\n",
    "\n",
    "ax3 = plot.subplot(9, 1, 5)\n",
    "ax3.set_yticks([])\n",
    "ax3.set_yticklabels([])\n",
    "plot.title('Средина размаха')\n",
    "plot.plot(mid_range, empty, 'g+')\n",
    "plot.plot(mid_range[0], 0, 'gp')\n",
    "\n",
    "ax4 = plot.subplot(9, 1, 7)\n",
    "ax4.set_yticks([])\n",
    "ax4.set_yticklabels([])\n",
    "plot.title('Дисперсия')\n",
    "plot.plot(dispersion, empty, 'g+')\n",
    "plot.plot(dispersion[0], 0, 'gp')\n",
    "\n",
    "ax5 = plot.subplot(9, 1, 9)\n",
    "ax5.set_yticks([])\n",
    "ax5.set_yticklabels([])\n",
    "plot.title('Среднеквадратичное отклонение')\n",
    "plot.plot(root_of_dispersion, empty, 'g+')\n",
    "plot.plot(root_of_dispersion[0], 0, 'gp')\n",
    "\n",
    "plot.show()\n",
    "plot.close()\n",
    "\n",
    "plot.figure()\n",
    "ax1 = plot.subplot(7, 1, 1)\n",
    "ax1.set_ylim(-0.1, 0.1)\n",
    "ax1.set_yticks([])\n",
    "ax1.set_yticklabels([])\n",
    "plot.title('Третий центральный момент')\n",
    "plot.plot(third_central_moment, empty, 'r+')\n",
    "plot.plot(third_central_moment[0], 0, 'rp')\n",
    "\n",
    "ax2 = plot.subplot(7, 1, 3)\n",
    "ax2.set_yticklabels([])\n",
    "ax2.set_yticks([])\n",
    "plot.title('Четвертый центральный момент')\n",
    "plot.plot(fourth_central_moment, empty, 'b+')\n",
    "plot.plot(fourth_central_moment[0], 0, 'bp')\n",
    "\n",
    "ax3 = plot.subplot(7, 1, 5)\n",
    "ax3.set_yticks([])\n",
    "ax3.set_yticklabels([])\n",
    "plot.title('Асимметрия')\n",
    "plot.plot(asymmetry, empty, 'g+')\n",
    "plot.plot(asymmetry[0], 0, 'gp')\n",
    "\n",
    "ax4 = plot.subplot(7, 1, 7)\n",
    "ax4.set_yticks([])\n",
    "ax4.set_yticklabels([])\n",
    "plot.title('Эксцесс')\n",
    "plot.plot(kurtosis, empty, 'g+')\n",
    "plot.plot(kurtosis[0], 0, 'gp')\n",
    "plot.show()\n",
    "plot.close()"
   ],
   "metadata": {
    "collapsed": false,
    "pycharm": {
     "name": "#%%\n"
    }
   }
  },
  {
   "cell_type": "code",
   "execution_count": 8,
   "outputs": [
    {
     "name": "stdout",
     "output_type": "stream",
     "text": [
      "Выборка\tМат.ожидание\tДисперсия\n",
      "\t(Левая, правая)\t(Левая, правая)\n",
      "Full\t(14.991451,15.060142)\t(12.325683,12.669088)\n",
      "1\t(14.943884,15.163052)\t(12.548019,12.897619)\n",
      "2\t(14.916565,15.132668)\t(12.199566,12.539458)\n",
      "3\t(15.083193,15.297549)\t(12.003056,12.337473)\n",
      "4\t(14.915198,15.135378)\t(12.664277,13.017117)\n",
      "5\t(14.935745,15.153928)\t(12.435555,12.782022)\n",
      "6\t(14.849010,15.063416)\t(12.008786,12.343363)\n",
      "7\t(14.883279,15.101293)\t(12.416276,12.762206)\n",
      "8\t(14.928052,15.144528)\t(12.241686,12.582751)\n",
      "9\t(14.819417,15.036503)\t(12.310764,12.653754)\n",
      "10\t(14.897485,15.115786)\t(12.448981,12.795821)\n"
     ]
    },
    {
     "data": {
      "text/plain": "<Figure size 432x288 with 11 Axes>",
      "image/png": "[encoded data removed]"
     },
     "metadata": {
      "needs_background": "light"
     },
     "output_type": "display_data"
    },
    {
     "data": {
      "text/plain": "<Figure size 432x288 with 11 Axes>",
      "image/png": "[encoded data removed]"
     },
     "metadata": {
      "needs_background": "light"
     },
     "output_type": "display_data"
    }
   ],
   "source": [
    "Q = 0.8  # доверительная вероятность\n",
    "\n",
    "left_chi2inv = stats.chi2.ppf((1 + Q) / 2, numOfPoints)\n",
    "right_chi2inv = stats.chi2.ppf((1 - Q) / 2, numOfPoints)\n",
    "tinv = 1.2816  # посчитано в MATLAB функцией tinv((1+q)/2, n), 0.9 = (1+q)/2, где q=0.8\n",
    "mean_interval = [help.mean_interval(numOfPoints, mean[0], root_of_dispersion[0], tinv)]\n",
    "dispersion_interval = [help.dispersion_interval(numOfPoints, dispersion[0], left_chi2inv, right_chi2inv)]\n",
    "\n",
    "for i in range(1, 11):\n",
    "    mean_interval.append(help.mean_interval(numOfPointsInOneUnderArray, mean[i], root_of_dispersion[i], tinv))\n",
    "    dispersion_interval.append(help.dispersion_interval(numOfPoints, dispersion[i], left_chi2inv, right_chi2inv))\n",
    "print(\"Выборка\\tМат.ожидание\\tДисперсия\")\n",
    "print(\"\\t(Левая, правая)\\t(Левая, правая)\")\n",
    "for i in range(len(mean_interval)):\n",
    "    if i == 0:\n",
    "        data_name = \"Full\"\n",
    "    else:\n",
    "        data_name = str(i)\n",
    "    print(\"%s\\t(%f,%f)\\t(%f,%f)\" % (\n",
    "    data_name, mean_interval[i][0], mean_interval[i][1], dispersion_interval[i][0], dispersion_interval[i][1]))\n",
    "\n",
    "# Для мат. ожидания\n",
    "plot.figure()\n",
    "axes = [plot.subplot(11, 1, 1)]\n",
    "axes[0].set_yticks([])\n",
    "axes[0].set_ylabel('Full')\n",
    "plot.title('Интервальные оценки мат. ожидания')\n",
    "plot.setp(axes[0].get_xticklabels(), visible=False)\n",
    "plot.plot(mean[0], 0, 'rp')\n",
    "plot.plot(mean_interval[0][0], 0, 'b<')\n",
    "plot.plot(mean_interval[0][1], 0, 'b>')\n",
    "\n",
    "for i in range(1, 11):\n",
    "    axes.append(plot.subplot(11, 1, i + 1, sharex=axes[0]))\n",
    "    axes[i].set_yticks([])\n",
    "    axes[i].set_ylabel(str(i))\n",
    "    if i < 10: plot.setp(axes[i].get_xticklabels(), visible=False)\n",
    "    plot.plot(mean[i], 0, 'r+')\n",
    "    plot.plot(mean_interval[i][0], 0, 'b<')\n",
    "    plot.plot(mean_interval[i][1], 0, 'b>')\n",
    "mat_razmach = max(mean) - min(mean)\n",
    "axes[0].set_xlim([min(mean) - 0.5 * mat_razmach, max(mean) + 0.5 * mat_razmach])  # CHANGE\n",
    "plot.show()\n",
    "plot.close()\n",
    "\n",
    "# Для дисперсии\n",
    "\n",
    "plot.figure()\n",
    "axes = [plot.subplot(11, 1, 1)]\n",
    "axes[0].set_yticks([])\n",
    "axes[0].set_ylabel('Full')\n",
    "plot.title('Интервальные оценки дисперсии')\n",
    "plot.setp(axes[0].get_xticklabels(), visible=False)\n",
    "plot.plot(dispersion[0], 0, 'rp')\n",
    "plot.plot(dispersion_interval[0][0], 0, 'b<')\n",
    "plot.plot(dispersion_interval[0][1], 0, 'b>')\n",
    "\n",
    "for i in range(1, 11):\n",
    "    axes.append(plot.subplot(11, 1, i + 1, sharex=axes[0]))\n",
    "    axes[i].set_yticks([])\n",
    "    axes[i].set_ylabel(str(i))\n",
    "    if i < 10: plot.setp(axes[i].get_xticklabels(), visible=False)\n",
    "    plot.plot(dispersion[i], 0, 'r+')\n",
    "    plot.plot(dispersion_interval[i][0], 0, 'b<')\n",
    "    plot.plot(dispersion_interval[i][1], 0, 'b>')\n",
    "disp_razmach = max(dispersion) - min(dispersion)\n",
    "axes[0].set_xlim([min(dispersion) - 0.5 * disp_razmach, max(dispersion) + 0.5 * disp_razmach])\n",
    "plot.show()\n",
    "plot.close()"
   ],
   "metadata": {
    "collapsed": false,
    "pycharm": {
     "name": "#%%\n"
    }
   }
  },
  {
   "cell_type": "markdown",
   "source": [
    "Интервальные оценки интерквантильного промежутка для P = 0.95\n",
    "Непараметрические толерантные пределы для всей выборки симметричные относительно среднего значения.\n",
    "Кол-во отбрасываемых точек k было найдено с помощью биномиального распределения."
   ],
   "metadata": {
    "collapsed": false,
    "pycharm": {
     "name": "#%% md\n"
    }
   }
  },
  {
   "cell_type": "code",
   "execution_count": 9,
   "outputs": [
    {
     "name": "stdout",
     "output_type": "stream",
     "text": [
      "k = 895\n",
      "Толерантные пределы для всей выборки относительно среднего: [10.019000, 19.984700]\n"
     ]
    },
    {
     "data": {
      "text/plain": "<Figure size 432x288 with 1 Axes>",
      "image/png": "[encoded data removed]"
     },
     "metadata": {
      "needs_background": "light"
     },
     "output_type": "display_data"
    },
    {
     "name": "stdout",
     "output_type": "stream",
     "text": [
      "Толерантные пределы для всей выборки относительно нуля: [-19.939500, 19.939500]\n"
     ]
    },
    {
     "data": {
      "text/plain": "<Figure size 432x288 with 1 Axes>",
      "image/png": "[encoded data removed]"
     },
     "metadata": {
      "needs_background": "light"
     },
     "output_type": "display_data"
    },
    {
     "name": "stdout",
     "output_type": "stream",
     "text": [
      "Параметрические толерантные интервалы для подвыборок\n",
      "Номер подвыборки\t(Левый, Правый)\n",
      "0\t[8.062705, 8.062705]\n",
      "1\t[8.131602, 8.131602]\n",
      "2\t[8.353098, 8.353098]\n",
      "3\t[8.002215, 8.002215]\n",
      "4\t[8.085472, 8.085472]\n",
      "5\t[8.117308, 8.117308]\n",
      "6\t[8.038318, 8.038318]\n",
      "7\t[8.131387, 8.131387]\n",
      "8\t[8.003602, 8.003602]\n",
      "9\t[8.043515, 8.043515]\n"
     ]
    },
    {
     "data": {
      "text/plain": "<Figure size 432x288 with 10 Axes>",
      "image/png": "[encoded data removed]"
     },
     "metadata": {
      "needs_background": "light"
     },
     "output_type": "display_data"
    }
   ],
   "source": [
    "p = 0.95  # вероятность для интерквантильного промежутка\n",
    "tolerant_interval_average = [0, 0]  # массив для толерантных пределов\n",
    "\n",
    "k = help.find_k(numOfPoints, p, Q)  # кол-во отбрасываемых точек\n",
    "print(\"k = %d\" % k)\n",
    "# Для всей выборки относительно среднего арифметического\n",
    "if k % 2 == 0:\n",
    "    left_lim = int(k / 2)\n",
    "    right_lim = int(numOfPoints - k / 2)\n",
    "    tolerant_interval_average[0], tolerant_interval_average[1] = data[left_lim], data[right_lim]\n",
    "else:\n",
    "    left_lim = int((k - 1) / 2)\n",
    "    right_lim = int(numOfPoints - (k - 1) / 2)\n",
    "    tolerant_interval_average[0], tolerant_interval_average[1] = data[left_lim], data[right_lim]\n",
    "\n",
    "# Для всей выборки относительно нуля\n",
    "# Для этого возьмем модули отрицательных значений и пересортируем выборку\n",
    "data_abs = np.sort(abs(np.array(data)))\n",
    "tolerant_interval_zero = [-data_abs[numOfPoints - k + 1], data_abs[numOfPoints - k + 1]]\n",
    "\n",
    "print(\"Толерантные пределы для всей выборки относительно среднего: [%f, %f]\" %(tolerant_interval_average[0], tolerant_interval_average[1]))\n",
    "plot.title(\"Толерантные пределы для интерквантильного \\nпромежутка относительно среднего значения\")\n",
    "plot.yticks([])\n",
    "plot.plot(tolerant_interval_average[0], 0, 'b<')\n",
    "plot.plot(tolerant_interval_average[1], 0, 'b>')\n",
    "plot.plot(data[interquantile_interval[0]], 0, 'ro')\n",
    "plot.plot(data[interquantile_interval[1]], 0, 'ro')\n",
    "plot.legend((\"Левый толерантный предел\", \"Правый толерантный предел\", \"Интерквантильный промежуток\"), loc='upper right')\n",
    "plot.show()\n",
    "plot.close()\n",
    "\n",
    "print(\"Толерантные пределы для всей выборки относительно нуля: [%f, %f]\" %(tolerant_interval_zero[0], tolerant_interval_zero[1]))\n",
    "plot.title(\"Толерантные пределы относительно нуля\")\n",
    "plot.yticks([])\n",
    "plot.plot(tolerant_interval_zero[0], 0, 'b<')\n",
    "plot.plot(tolerant_interval_zero[1], 0, 'b>')\n",
    "plot.legend((\"Левый толерантный предел\", \"Правый толерантный предел\"), loc='upper right')\n",
    "plot.show()\n",
    "plot.close()\n",
    "\n",
    "# Считаем параметрические толерантные пределы подвыборок\n",
    "k_tolerant_multiplier = 1.96\n",
    "parametric_tolerant_interval = [[0, 0], [0, 0], [0, 0], [0, 0], [0, 0], [0, 0], [0, 0], [0, 0], [0, 0], [0, 0]]\n",
    "for i in range(10):\n",
    "    parametric_tolerant_interval[i][0] = mean[i + 1] - k_tolerant_multiplier * root_of_dispersion[i + 1]\n",
    "    parametric_tolerant_interval[i][1] = mean[i + 1] + k_tolerant_multiplier * root_of_dispersion[i + 1]\n",
    "print(\"Параметрические толерантные интервалы для подвыборок\")\n",
    "print(\"Номер подвыборки\\t(Левый, Правый)\")\n",
    "for i in range(len(parametric_tolerant_interval)):\n",
    "    print(\"%d\\t[%f, %f]\" %(i, parametric_tolerant_interval[i][0], parametric_tolerant_interval[i][0]))\n",
    "axes = []\n",
    "plot.title(\"Параметрические толерантные пределы для подвыборок\")\n",
    "for i in range(10):\n",
    "    if i == 0:\n",
    "        axes.append(plot.subplot(10, 1, i + 1))\n",
    "    else:\n",
    "        axes.append(plot.subplot(10, 1, i + 1, sharex=axes[0]))\n",
    "    axes[i].set_yticks([])\n",
    "    axes[i].set_ylabel(str(i + 1))\n",
    "    if i < 9: plot.setp(axes[i].get_xticklabels(), visible=False)\n",
    "    plot.plot(parametric_tolerant_interval[i][0], 0, 'b<')\n",
    "    plot.plot(parametric_tolerant_interval[i][1], 0, 'b>')\n",
    "    plot.plot(mean[i + 1], 0, 'ro')\n",
    "plot.show()\n",
    "plot.close()"
   ],
   "metadata": {
    "collapsed": false,
    "pycharm": {
     "name": "#%%\n"
    }
   }
  },
  {
   "cell_type": "markdown",
   "source": [
    "Красные точки на графиках – это мат. ожидания подвыборок.\n",
    "Как видно из графика толерантного предела интерквантильного промежутка всей выборки, толерантные пределы шире, чем интерквантильный промежуток.\n",
    "А также на всех графиках мат. ожидания лежат посередине толерантного отрезка, за исключением толерантного отрезка, симметричного относительно нуля."
   ],
   "metadata": {
    "collapsed": false
   }
  },
  {
   "cell_type": "code",
   "execution_count": 12,
   "outputs": [
    {
     "name": "stdout",
     "output_type": "stream",
     "text": [
      "===========================МЕТОД МОМЕНТОВ==========================\n",
      "Для нормального распредления: с = 15.025796, s = 3.534976\n",
      "(15.025796454022986, 3.5348739800073252)\n"
     ]
    },
    {
     "name": "stderr",
     "output_type": "stream",
     "text": [
      "d:\\pycharmprojects\\probability-theory\\venv\\lib\\site-packages\\scipy\\stats\\_continuous_distns.py:496: RuntimeWarning: divide by zero encountered in true_divide\n",
      "  return 1.0/np.pi/np.sqrt(x*(1-x))\n"
     ]
    },
    {
     "name": "stdout",
     "output_type": "stream",
     "text": [
      "9.999999999999998 10.00071877812291\n"
     ]
    },
    {
     "data": {
      "text/plain": "<Figure size 432x288 with 1 Axes>",
      "image/png": "[encoded data removed]"
     },
     "metadata": {
      "needs_background": "light"
     },
     "output_type": "display_data"
    }
   ],
   "source": [
    "import pandas as pd\n",
    "\n",
    "\n",
    "print(\"===========================МЕТОД МОМЕНТОВ==========================\")\n",
    "# Для нормального распредления\n",
    "print(\"Для нормального распредления: с = %f, s = %f\" %(mean[0],root_of_dispersion[0]))\n",
    "print(stats.norm.fit(data))\n",
    "loc, scale = stats.arcsine.fit(numbers)\n",
    "print(loc, scale)\n",
    "plot.plot(data, stats.norm.pdf(np.array(data), loc=mean[0], scale=root_of_dispersion[0]), 'b')\n",
    "plot.plot(data, stats.arcsine.cdf(np.array(data), loc=loc, scale=scale), 'r')\n",
    "plot.show()"
   ],
   "metadata": {
    "collapsed": false,
    "pycharm": {
     "name": "#%%\n"
    }
   }
  },
  {
   "cell_type": "code",
   "execution_count": null,
   "outputs": [],
   "source": [
    "print(\"===========================МЕТОД МОМЕНТОВ==========================\")\n",
    "# Для нормального распредления\n",
    "print(\"Для нормального распредления: с = %f, s = %f\" %(mean[0],root_of_dispersion[0]))\n",
    "plot.plot(data, stats.norm.cdf(np.array(data), loc=mean[0], scale=root_of_dispersion[0]), 'b')\n",
    "print(\"Для распределения arcsin:\")\n",
    "plot.plot(data, stats.arcsine.cdf(np.array(data), loc=mean[0], scale=root_of_dispersion[0]*math.sqrt(2)), 'r')\n",
    "\n",
    "\n",
    "a_for_laplace_moment_method = mean[0]\n",
    "laplace_lambda_moment_method = math.sqrt(2 / dispersion[0])\n",
    "print(\"Для распределения Лапласа\")\n",
    "print(\"a = \" + str(a_for_laplace_moment_method) + \" lambda = \" + str(laplace_lambda_moment_method))\n",
    "\n",
    "n_for_student_moment = (2 * dispersion[0]) / (dispersion[0] - 1)\n",
    "print(\"Для распределения Стьюдента\")\n",
    "print(\"n = \" + str(n_for_student_moment))\n",
    "\n",
    "# ======================================= ММП ====================================================\n",
    "print(\"===========================ММП==========================\")\n",
    "\n",
    "# Для нормального распределения\n",
    "c_for_normal_mmp = 1 / numOfPoints * sum(data)\n",
    "dispersion_for_normal_mmp = 1 / numOfPoints * sum((np.array(data) - c_for_normal_mmp) ** 2)\n",
    "s_for_normal_mmp = math.sqrt(dispersion_for_normal_mmp)\n",
    "print(\"Для нормального распределения\")\n",
    "print(\"c = \" + str(c_for_normal_mmp) + \" s = \" + str(s_for_normal_mmp))\n",
    "\n",
    "# Для распределения Лапласа\n",
    "a_for_laplace_mmp = mean[0]\n",
    "laplace_lambda_mmp = numOfPoints * (1 / sum(abs(np.array(data) - a_for_laplace_mmp)))\n",
    "print(\"Для распределения Лапласа\")\n",
    "print(\"a = \" + str(a_for_laplace_mmp) + \" lambda = \" + str(laplace_lambda_mmp))\n",
    "#\n",
    "# # Для Гамма-распределения\n",
    "# # Числовые значения, которые нужно посчитать\n",
    "for_optimize1 = 0\n",
    "for_optimize2 = 0\n",
    "square_sum = 0\n",
    "for v in data:\n",
    "    if v > 0:\n",
    "        square_sum += v * v\n",
    "        for_optimize1 += v\n",
    "        for_optimize2 += np.log(v)\n",
    "for_optimize3 = for_optimize1\n",
    "for_optimize1 = np.log(for_optimize1 / numOfPoints)\n",
    "for_optimize4 = for_optimize2\n",
    "for_optimize2 = for_optimize2 / numOfPoints\n",
    "c_mmp = for_optimize1 - for_optimize2\n",
    "\n",
    "mu_for_student_mmp = 0.0267811\n",
    "sigma_for_student_mmp = 1.03866\n",
    "nu_for_student_mmp = 5.55669\n",
    "\"\"\"\n",
    "# ======================= Построим финции распределения и плотности вместе с гистограммой\n",
    "\"\"\"\n",
    "# Для нормального распределения\n",
    "# https://docs.scipy.org/doc/scipy/reference/generated/scipy.stats.norm.html#scipy.stats.norm\n",
    "plot.title(\"Сравнение с плотностью нормального распределения\")\n",
    "# plot.xlim([0, 1000])\n",
    "plot.bar(steps, for_relative, width=h, color=(0.2, 0.6, 0.3, 0.4))\n",
    "plot.plot(data, stats.norm.pdf(np.array(data), loc=mean[0], scale=root_of_dispersion[0]), 'b')\n",
    "plot.plot(data, stats.norm.pdf(np.array(data), loc=c_for_normal_mmp, scale=s_for_normal_mmp), 'r')\n",
    "plot.legend((\"Метод моментов\", \"ММП\", \"Гистограмма\"), loc='upper right')\n",
    "plot.show()\n",
    "plot.close()\n",
    "\n",
    "# !!!!!!!!!!!\n",
    "plot.title(\"Сравнение с равномерным распределением\")\n",
    "# plot.xlim([0, 1000])\n",
    "plot.bar(steps, distribution_fun / numOfPoints, width=h, color=(0.2, 0.6, 0.3, 0.4))\n",
    "plot.plot(data, stats.uniform.cdf(np.array(data), loc=min_value, scale=max_value-min_value), 'b')\n",
    "#plot.plot(data, stats.uniform.cdf(np.array(data), loc=c_for_normal_mmp, scale=s_for_normal_mmp), 'r')\n",
    "plot.legend((\"Метод моментов\", \"ММП\", \"Гистограмма\"), loc='upper right')\n",
    "plot.show()\n",
    "plot.close()\n",
    "\n",
    "plot.title(\"Сравнение с плотностью равномерного распределения\")\n",
    "# plot.xlim([0, 1000])\n",
    "plot.bar(steps, for_relative, width=h, color=(0.2, 0.6, 0.3, 0.4))\n",
    "plot.plot(data, stats.uniform.pdf(np.array(data), loc=mean[0], scale=root_of_dispersion[0]), 'b')\n",
    "plot.plot(data, stats.uniform.pdf(np.array(data), loc=c_for_normal_mmp, scale=s_for_normal_mmp), 'r')\n",
    "plot.legend((\"Метод моментов\", \"ММП\", \"Гистограмма\"), loc='upper right')\n",
    "plot.show()\n",
    "plot.close()\n",
    "\n",
    "# !!!!!!!!!!!!!!!!!!!!!!!\n",
    "\n",
    "plot.title(\"Сравнение с нормальным распределением\")\n",
    "# plot.xlim([0, 1000])\n",
    "plot.bar(steps, distribution_fun / numOfPoints, width=h, color=(0.2, 0.6, 0.3, 0.4))\n",
    "plot.plot(data, stats.norm.cdf(np.array(data), loc=mean[0], scale=root_of_dispersion[0]), 'b')\n",
    "plot.plot(data, stats.norm.cdf(np.array(data), loc=c_for_normal_mmp, scale=s_for_normal_mmp), 'r')\n",
    "plot.legend((\"Метод моментов\", \"ММП\", \"Эмпирическая\"), loc='upper right')\n",
    "plot.show()\n",
    "plot.close()\n",
    "\n",
    "# Для распределения Лапласа\n",
    "\n",
    "plot.title(\"Сравнение с плотностью распределения Лапласа\")\n",
    "# plot.xlim([0, 1000])\n",
    "plot.bar(steps, for_relative, width=h, color=(0.2, 0.6, 0.3, 0.4))\n",
    "plot.plot(data,\n",
    "          stats.laplace.pdf(np.array(data), loc=a_for_laplace_moment_method, scale=1 / laplace_lambda_moment_method),\n",
    "          'b')\n",
    "plot.plot(data, stats.laplace.pdf(np.array(data), loc=a_for_laplace_mmp, scale=1 / laplace_lambda_mmp), 'r')\n",
    "plot.legend((\"Метод моментов\", \"ММП\", \"Гистограмма\"), loc='upper right')\n",
    "plot.show()\n",
    "plot.close()\n",
    "\n",
    "plot.title(\"Сравнение с распределением Лапласа\")\n",
    "# plot.xlim([0, 1000])\n",
    "plot.bar(steps, distribution_fun / numOfPoints, width=h, color=(0.2, 0.6, 0.3, 0.4))\n",
    "plot.plot(data, stats.laplace.cdf(np.array(data), loc=mean[0], scale=1 / laplace_lambda_moment_method), 'b')\n",
    "plot.plot(data, stats.laplace.cdf(np.array(data), loc=a_for_laplace_mmp, scale=1 / laplace_lambda_mmp), 'r')\n",
    "plot.legend((\"Метод моментов\", \"ММП\", \"Эмпирическая\"), loc='upper right')\n",
    "plot.show()\n",
    "plot.close()\n",
    "\n",
    "\n",
    "plot.title(\"Сравнение с плотностью распределения Стьюдента\")\n",
    "# plot.xlim([0, 4.1])\n",
    "# plot.ylim([0, 0.25])\n",
    "plot.bar(steps, for_relative, width=h, color=(0.2, 0.6, 0.3, 0.4))\n",
    "plot.plot(data, stats.t.pdf(np.array(data), n_for_student_moment, scale=1), 'b')\n",
    "plot.plot(data, stats.t.pdf(np.array(data), nu_for_student_mmp, scale=sigma_for_student_mmp, loc=mu_for_student_mmp),\n",
    "          'r')\n",
    "# plot.plot(data, stats.rayleigh.pdf(np.array(data), relay_SDVIG, scale=disp_for_relay_mmp), 'r')\n",
    "plot.legend((\"Метод моментов\", \"ММП\", \"Гистограмма\"), loc='upper right')\n",
    "plot.show()\n",
    "plot.close()\n",
    "\n",
    "plot.title(\"Сравнение с распределением Стьюдента\")\n",
    "# plot.xlim([0, 4.1])\n",
    "plot.bar(steps, distribution_fun / numOfPoints, width=h, color=(0.2, 0.6, 0.3, 0.4))\n",
    "plot.plot(data, stats.t.cdf(np.array(data), n_for_student_moment, scale=1), 'b')\n",
    "plot.plot(data, stats.t.cdf(np.array(data), nu_for_student_mmp, scale=sigma_for_student_mmp, loc=mu_for_student_mmp),\n",
    "          'r')\n",
    "# plot.plot(data, stats.rayleigh.cdf(np.array(data), relay_SDVIG, scale=disp_for_relay_mmp), 'r')\n",
    "plot.legend((\"Метод моментов\", \"Matlab\", \"Эмпирическая\"), loc='upper right')\n",
    "plot.show()\n",
    "plot.close()\n",
    "\"\"\"\n",
    "\"\"\"\n",
    "# ========================== ПРОВЕРКА ГИПОТЕЗ ============================================\n",
    "print(\"========================== ПРОВЕРКА ГИПОТЕЗ ==============================\")\n",
    "# _nk  - кол-во точек, попавших в k-ый интервал\n",
    "_nk = np.empty(m)\n",
    "index = 0\n",
    "for val in distribution_fun:\n",
    "    if index == 0:\n",
    "        _nk[index] = val\n",
    "    else:\n",
    "        _nk[index] = val - distribution_fun[index - 1]\n",
    "    index += 1\n",
    "\n",
    "# =============== Хи-квадрат==============================================================\n",
    "print(\"=============== Хи-квадрат статистика=====================\")\n",
    "print(\"\\tКритическое значение = 22.3071\")  # Значение получено в MATLAB CHANGE\n",
    "\n",
    "print(\"\\tДля нормального распределения\")\n",
    "index = 0\n",
    "chi2_stat = 0\n",
    "for i in range(m):\n",
    "    if i == 0:\n",
    "        ___Pk = stats.norm.cdf(steps[index], loc=mean[0], scale=root_of_dispersion[0]) - \\\n",
    "                stats.norm.cdf(min_value, loc=mean[0], scale=root_of_dispersion[0])\n",
    "    else:\n",
    "        ___Pk = stats.norm.cdf(steps[index], loc=mean[0], scale=root_of_dispersion[0]) - \\\n",
    "                stats.norm.cdf(steps[index - 1], loc=mean[0], scale=root_of_dispersion[0])\n",
    "    chi2_stat += (numOfPoints * ___Pk - _nk[index]) ** 2 / (numOfPoints * ___Pk)\n",
    "    index += 1\n",
    "print(\"\\t\\tДля метода моментов = \" + str(chi2_stat))\n",
    "\n",
    "index = 0\n",
    "chi2_stat = 0\n",
    "for i in range(m):\n",
    "    if i == 0:\n",
    "        ___Pk = stats.norm.cdf(steps[index], loc=c_for_normal_mmp, scale=s_for_normal_mmp) - \\\n",
    "                stats.norm.cdf(min_value, loc=c_for_normal_mmp, scale=s_for_normal_mmp)\n",
    "    else:\n",
    "        ___Pk = stats.norm.cdf(steps[index], loc=c_for_normal_mmp, scale=s_for_normal_mmp) - \\\n",
    "                stats.norm.cdf(steps[index - 1], loc=c_for_normal_mmp, scale=s_for_normal_mmp)\n",
    "    chi2_stat += (numOfPoints * ___Pk - _nk[index]) ** 2 / (numOfPoints * ___Pk)\n",
    "    index += 1\n",
    "print(\"\\t\\tДля ММП = \" + str(chi2_stat))\n",
    "\n",
    "print(\"\\tДля распределения Лапласа\")\n",
    "index = 0\n",
    "chi2_stat = 0\n",
    "for i in range(m):\n",
    "    if i == 0:\n",
    "        ___Pk = stats.laplace.cdf(steps[index], loc=a_for_laplace_moment_method,\n",
    "                                  scale=1 / laplace_lambda_moment_method) - \\\n",
    "                stats.laplace.cdf(min_value, loc=a_for_laplace_moment_method, scale=1 / laplace_lambda_moment_method)\n",
    "    else:\n",
    "        ___Pk = stats.laplace.cdf(steps[index], loc=a_for_laplace_moment_method,\n",
    "                                  scale=1 / laplace_lambda_moment_method) - \\\n",
    "                stats.laplace.cdf(steps[index - 1], loc=a_for_laplace_moment_method,\n",
    "                                  scale=1 / laplace_lambda_moment_method)\n",
    "    chi2_stat += (numOfPoints * ___Pk - _nk[index]) ** 2 / (numOfPoints * ___Pk)\n",
    "    index += 1\n",
    "print(\"\\t\\tДля метода моментов = \" + str(chi2_stat))\n",
    "\n",
    "index = 0\n",
    "chi2_stat = 0\n",
    "for i in range(m):\n",
    "    if i == 0:\n",
    "        ___Pk = stats.laplace.cdf(steps[index], loc=a_for_laplace_mmp, scale=1 / laplace_lambda_mmp) - \\\n",
    "                stats.laplace.cdf(min_value, loc=a_for_laplace_mmp, scale=1 / laplace_lambda_mmp)\n",
    "    else:\n",
    "        ___Pk = stats.laplace.cdf(steps[index], loc=a_for_laplace_mmp, scale=1 / laplace_lambda_mmp) - \\\n",
    "                stats.laplace.cdf(steps[index - 1], loc=a_for_laplace_mmp, scale=1 / laplace_lambda_mmp)\n",
    "    chi2_stat += (numOfPoints * ___Pk - _nk[index]) ** 2 / (numOfPoints * ___Pk)\n",
    "    index += 1\n",
    "print(\"\\t\\tДля ММП = \" + str(chi2_stat))\n",
    "\n",
    "\n",
    "print(\"\\tДля распределения Стьюдента\")\n",
    "index = 0\n",
    "chi2_stat = 0\n",
    "for i in range(m):\n",
    "    ___Pk = stats.t.cdf(steps[index], 0, scale=n_for_student_moment) - \\\n",
    "            stats.t.cdf(steps[index - 1], 0, scale=n_for_student_moment)\n",
    "    chi2_stat += (numOfPoints * ___Pk - _nk[index]) ** 2 / (numOfPoints * ___Pk)\n",
    "    index += 1\n",
    "print(\"\\t\\tДля метода моментов = \" + str(chi2_stat))\n",
    "\n",
    "index = 0\n",
    "chi2_stat = 0\n",
    "for i in range(m):\n",
    "    ___Pk = stats.t.cdf(steps[index], nu_for_student_mmp, scale=sigma_for_student_mmp, loc=mu_for_student_mmp) - \\\n",
    "            stats.t.cdf(steps[index - 1], nu_for_student_mmp, scale=sigma_for_student_mmp, loc=mu_for_student_mmp)\n",
    "    chi2_stat += (numOfPoints * ___Pk - _nk[index]) ** 2 / (numOfPoints * ___Pk)\n",
    "    index += 1\n",
    "print(\"\\t\\tДля ММП = \" + str(chi2_stat))\n",
    "\n",
    "# =============== КОЛМАГОРОВА - СМИРНОВА==============================================================\n",
    "print(\"=============== статистика КОЛМАГОРОВА - СМИРНОВА =====================\")\n",
    "___Dcrit = np.sqrt(- (np.log(0.5 * 0.05) / (2 * numOfPoints))) - 1 / (6 * numOfPoints)\n",
    "print(\"\\tКритическое значение = \" + str(___Dcrit))\n",
    "\n",
    "print(\"\\tДля нормального распределения\")\n",
    "___D = 0\n",
    "index = 1\n",
    "for val in data:\n",
    "    _____ddd = abs(stats.norm.cdf(val, loc=mean[0], scale=root_of_dispersion[0]) - index / numOfPoints)\n",
    "    if _____ddd > ___D: ___D = _____ddd\n",
    "    index += 1\n",
    "print(\"\\t\\tДля метода моментов = \" + str(___D))\n",
    "\n",
    "___D = 0\n",
    "index = 1\n",
    "for val in data:\n",
    "    _____ddd = abs(stats.norm.cdf(val, loc=c_for_normal_mmp, scale=s_for_normal_mmp) - index / numOfPoints)\n",
    "    if _____ddd > ___D: ___D = _____ddd\n",
    "    index += 1\n",
    "print(\"\\t\\tДля ММП = \" + str(___D))\n",
    "\n",
    "print(\"\\tДля распределения Лапласа\")\n",
    "___D = 0\n",
    "index = 1\n",
    "for val in data:\n",
    "    _____ddd = abs(stats.laplace.cdf(val, loc=a_for_laplace_moment_method,\n",
    "                                     scale=1 / laplace_lambda_moment_method) - index / numOfPoints)\n",
    "    if _____ddd > ___D: ___D = _____ddd\n",
    "    index += 1\n",
    "print(\"\\t\\tДля метода моментов = \" + str(___D))\n",
    "\n",
    "___D = 0\n",
    "index = 1\n",
    "for val in data:\n",
    "    _____ddd = abs(stats.laplace.cdf(val, loc=a_for_laplace_mmp, scale=1 / laplace_lambda_mmp) - index / numOfPoints)\n",
    "    if _____ddd > ___D: ___D = _____ddd\n",
    "    index += 1\n",
    "print(\"\\t\\tДля ММП = \" + str(___D))\n",
    "\n",
    "\n",
    "print(\"\\tДля распределения Стьюдента\")\n",
    "___D = 0\n",
    "index = 1\n",
    "for val in data:\n",
    "    _____ddd = abs(stats.t.cdf(val, 0, scale=n_for_student_moment) - index / numOfPoints)\n",
    "    if _____ddd > ___D: ___D = _____ddd\n",
    "    index += 1\n",
    "print(\"\\t\\tДля метода моментов = \" + str(___D))\n",
    "\n",
    "___D = 0\n",
    "index = 1\n",
    "for val in data:\n",
    "    _____ddd = abs(\n",
    "        stats.t.cdf(val, nu_for_student_mmp, scale=sigma_for_student_mmp, loc=mu_for_student_mmp) - index / numOfPoints)\n",
    "    if _____ddd > ___D: ___D = _____ddd\n",
    "    index += 1\n",
    "print(\"\\t\\tДля ММП = \" + str(___D))\n",
    "\n",
    "# ======================= критерий Мизеса ================================\n",
    "print(\"=============== статистика Мизеса =====================\")\n",
    "print(\"\\tКритическое значение = 0.2415\")  # Значение взято из таблицы\n",
    "\n",
    "print(\"\\tДля нормального распределения\")\n",
    "___w = 0\n",
    "index = 1\n",
    "for val in data:\n",
    "    ___w += (stats.norm.cdf(val, loc=mean[0], scale=root_of_dispersion[0]) - (2 * index - 1) / (2 * numOfPoints)) ** 2\n",
    "    index += 1\n",
    "___w = 1 / (12 * numOfPoints) + ___w\n",
    "print(\"\\t\\tДля метода моментов = \" + str(___w))\n",
    "\n",
    "\n",
    "___w = 0\n",
    "index = 1\n",
    "for val in data:\n",
    "    ___w += (stats.norm.cdf(val, loc=c_for_normal_mmp, scale=s_for_normal_mmp) - (2 * index - 1) / (\n",
    "            2 * numOfPoints)) ** 2\n",
    "    index += 1\n",
    "___w = 1 / (12 * numOfPoints) + ___w\n",
    "print(\"\\t\\tДля ММП = \" + str(___w))\n",
    "\n",
    "print(\"\\tДля распределения Лапласа\")\n",
    "___w = 0\n",
    "index = 1\n",
    "for val in data:\n",
    "    ___w += (stats.laplace.cdf(val, loc=a_for_laplace_moment_method,\n",
    "                               scale=1 / laplace_lambda_moment_method) - (2 * index - 1) / (2 * numOfPoints)) ** 2\n",
    "    index += 1\n",
    "___w = 1 / (12 * numOfPoints) + ___w\n",
    "print(\"\\t\\tДля метода моментов = \" + str(___w))\n",
    "\n",
    "___w = 0\n",
    "index = 1\n",
    "for val in data:\n",
    "    ___w += (stats.laplace.cdf(val, loc=a_for_laplace_mmp,\n",
    "                               scale=1 / laplace_lambda_mmp) - (2 * index - 1) / (2 * numOfPoints)) ** 2\n",
    "    index += 1\n",
    "___w = 1 / (12 * numOfPoints) + ___w\n",
    "print(\"\\t\\tДля ММП = \" + str(___w))\n",
    "\n",
    "\n",
    "print(\"\\tДля распределения Стьюдента\")\n",
    "___w = 0\n",
    "index = 1\n",
    "for val in data:\n",
    "    ___w += (stats.t.cdf(val, 0, scale=n_for_student_moment) - (2 * index - 1) / (2 * numOfPoints)) ** 2\n",
    "    index += 1\n",
    "___w = 1 / (12 * numOfPoints) + ___w\n",
    "print(\"\\t\\tДля метода моментов = \" + str(___w))\n",
    "\n",
    "___w = 0\n",
    "index = 1\n",
    "for val in data:\n",
    "    ___w += (\n",
    "                    stats.t.cdf(val, nu_for_student_mmp, scale=sigma_for_student_mmp, loc=mu_for_student_mmp) - (\n",
    "                    2 * index - 1) / (2 * numOfPoints)) ** 2\n",
    "    index += 1\n",
    "___w = 1 / (12 * numOfPoints) + ___w\n",
    "print(\"\\t\\tДля ММП = \" + str(___w))"
   ],
   "metadata": {
    "collapsed": false,
    "pycharm": {
     "name": "#%%\n"
    }
   }
  }
 ],
 "metadata": {
  "kernelspec": {
   "display_name": "Python 3",
   "language": "python",
   "name": "python3"
  },
  "language_info": {
   "codemirror_mode": {
    "name": "ipython",
    "version": 2
   },
   "file_extension": ".py",
   "mimetype": "text/x-python",
   "name": "python",
   "nbconvert_exporter": "python",
   "pygments_lexer": "ipython2",
   "version": "2.7.6"
  }
 },
 "nbformat": 4,
 "nbformat_minor": 0
}