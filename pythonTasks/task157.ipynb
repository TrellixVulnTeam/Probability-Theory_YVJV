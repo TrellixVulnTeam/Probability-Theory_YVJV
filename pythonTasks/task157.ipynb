{
 "cells": [
  {
   "cell_type": "code",
   "execution_count": null,
   "outputs": [],
   "source": [
    "import math\n",
    "import random\n",
    "\n",
    "import matplotlib.pyplot as plot\n",
    "import scipy.special as scip\n",
    "\n",
    "%matplotlib inline\n",
    "\n",
    "def help15(x, y, n_):\n",
    "    return (0.5 * math.erf(0.707107 * (y + x)) - (math.erf(0.707107 * y))) ** (n_ - 1) * math.exp(\n",
    "        -0.5 * y * y) / math.sqrt(2 * math.pi)\n",
    "\n",
    "\n",
    "def integral15(a, b, acc, x, n_):\n",
    "    acc_ = acc * 2\n",
    "    z = 4\n",
    "    s = help15(a, x, n_) * help15(b, x, n_)\n",
    "    h = (b - a) / acc_\n",
    "    i = 0\n",
    "    while i <= acc_:\n",
    "        s = s + z * help15(a + i * h, x, n_)\n",
    "        z = 6 - z\n",
    "        i = i + 1\n",
    "    return s * h / 3\n",
    "\n",
    "\n",
    "def range_(accuracy_, x, n_):\n",
    "    return n * integral15(-5.0, 5.0, accuracy_, x, n_)\n",
    "\n",
    "\n",
    "accuracy = 5\n",
    "n = 100\n",
    "k = 100000\n",
    "\n",
    "data_x = []\n",
    "data_y = []\n",
    "for i in range(58, 181):\n",
    "    data_x.append(i / 20.0)\n",
    "    data_y.append(range_(accuracy, data_x[-1], n) / 7e16 / 2.7100012860423055)\n",
    "plot.title(\"Теоретическая функция распределения размаха\")\n",
    "plot.xlabel(\"x\")\n",
    "plot.ylabel(\"P\")\n",
    "plot.plot(data_x, data_y)\n",
    "plot.show()"
   ],
   "metadata": {
    "collapsed": false,
    "pycharm": {
     "name": "#%%\n"
    }
   }
  },
  {
   "cell_type": "code",
   "execution_count": 30,
   "outputs": [
    {
     "data": {
      "text/plain": "[<matplotlib.lines.Line2D at 0x198c9b358b0>]"
     },
     "execution_count": 30,
     "metadata": {},
     "output_type": "execute_result"
    },
    {
     "data": {
      "text/plain": "<Figure size 432x288 with 1 Axes>",
      "image/png": "[encoded data removed]"
     },
     "metadata": {
      "needs_background": "light"
     },
     "output_type": "display_data"
    }
   ],
   "source": [
    "range_list = []  #лист размахов\n",
    "for i in range(1, k + 1):\n",
    "    exp = []\n",
    "    for j in range(1, n + 1):\n",
    "        exp.append(math.sqrt(2.0) * scip.erfinv(-1 + 2 * random.random()))\n",
    "    range_list.append(max(exp) - min(exp))\n",
    "for i in range(len(range_list)):\n",
    "    range_list[i] = int(range_list[i] * (10 ** 2)) / (10.0 ** 2)\n",
    "\n",
    "sorted_range = sorted(range_list)\n",
    "count = [float(range_list.count(sorted_range[i])) for i in range(len(sorted_range))]\n",
    "\n",
    "s = sum(count)\n",
    "probs = [i / s for i in count]\n",
    "\n",
    "distribution = [0.0 for i in probs]\n",
    "\n",
    "for i in range(len(probs)):\n",
    "    for j in range(i):\n",
    "        distribution[i] = distribution[i] + probs[j]\n",
    "\n",
    "plot.title(\"Оценка функции распределения вероятностей размаха\")\n",
    "plot.xlabel(\"x\")\n",
    "plot.ylabel(\"P\")\n",
    "plot.plot(sorted_range, distribution)\n"
   ],
   "metadata": {
    "collapsed": false,
    "pycharm": {
     "name": "#%%\n"
    }
   }
  }
 ],
 "metadata": {
  "kernelspec": {
   "display_name": "Python 3",
   "language": "python",
   "name": "python3"
  },
  "language_info": {
   "codemirror_mode": {
    "name": "ipython",
    "version": 2
   },
   "file_extension": ".py",
   "mimetype": "text/x-python",
   "name": "python",
   "nbconvert_exporter": "python",
   "pygments_lexer": "ipython2",
   "version": "2.7.6"
  }
 },
 "nbformat": 4,
 "nbformat_minor": 0
}